{
 "cells": [
  {
   "cell_type": "code",
   "execution_count": 1,
   "id": "66ac1111-e75f-4eeb-a96e-ef90b8f67326",
   "metadata": {},
   "outputs": [
    {
     "name": "stdout",
     "output_type": "stream",
     "text": [
      "(11829964, 11)\n"
     ]
    }
   ],
   "source": [
    "import pandas as pd\n",
    "df = pd.read_csv(\"/prj/Qingyang/m6A_cov10.bed\", sep='\\t', low_memory=False)\n",
    "print(df.shape)"
   ]
  },
  {
   "cell_type": "code",
   "execution_count": 2,
   "id": "9bfad0d8-5d70-4899-af4b-623a8bf05473",
   "metadata": {},
   "outputs": [],
   "source": [
    "from pyfaidx import Fasta\n",
    "from Bio.Seq import Seq\n",
    "from Bio import SeqIO\n",
    "\n",
    "BED_FILE = \"/prj/Qingyang/m6A_cov10.bed\"\n",
    "GENOME_FILE = \"/biodb/genomes/homo_sapiens/GRCh38_102/GRCh38_102.fa\"\n",
    "OUTPUT_BED = \"m6a_cov10_with_5mer.bed\"\n",
    "OUTPUT_CSV = \"m6a_cov10_with_5mer.csv\""
   ]
  },
  {
   "cell_type": "code",
   "execution_count": 6,
   "id": "bd33222c-8250-4c59-82ef-31a95f78ba80",
   "metadata": {},
   "outputs": [
    {
     "name": "stdout",
     "output_type": "stream",
     "text": [
      "  chrom  chromStart  chromEnd name  score strand  thickStart  thickEnd  \\\n",
      "0     1       14378     14379    a     10      -       14378     14379   \n",
      "1     1       14381     14382    a     17      -       14381     14382   \n",
      "2     1       14382     14383    a     14      -       14382     14383   \n",
      "3     1       14383     14384    a     12      -       14383     14384   \n",
      "4     1       14385     14386    a     11      -       14385     14386   \n",
      "\n",
      "   itemRgb  coverage  frequency  \n",
      "0  255,0,0        10        0.0  \n",
      "1  255,0,0        17        0.0  \n",
      "2  255,0,0        14        0.0  \n",
      "3  255,0,0        12        0.0  \n",
      "4  255,0,0        11        0.0  \n"
     ]
    }
   ],
   "source": [
    "print(df.head())"
   ]
  },
  {
   "cell_type": "code",
   "execution_count": 3,
   "id": "b5c8740f-c31e-4814-99ca-87febb470894",
   "metadata": {},
   "outputs": [
    {
     "name": "stdout",
     "output_type": "stream",
     "text": [
      "  chrom  chromStart  chromEnd name  score strand  thickStart  thickEnd  \\\n",
      "0     1       14378     14379    a     10      -       14378     14379   \n",
      "1     1       14381     14382    a     17      -       14381     14382   \n",
      "2     1       14382     14383    a     14      -       14382     14383   \n",
      "3     1       14383     14384    a     12      -       14383     14384   \n",
      "4     1       14385     14386    a     11      -       14385     14386   \n",
      "\n",
      "   itemRgb  coverage  frequency  \n",
      "0  255,0,0        10        0.0  \n",
      "1  255,0,0        17        0.0  \n",
      "2  255,0,0        14        0.0  \n",
      "3  255,0,0        12        0.0  \n",
      "4  255,0,0        11        0.0  \n",
      "Index(['chrom', 'chromStart', 'chromEnd', 'name', 'score', 'strand',\n",
      "       'thickStart', 'thickEnd', 'itemRgb', 'coverage', 'frequency'],\n",
      "      dtype='object')\n"
     ]
    }
   ],
   "source": [
    "genome = Fasta(GENOME_FILE)\n",
    "cols = ['chrom', 'chromStart', 'chromEnd', 'name', 'score', 'strand', \n",
    "        'thickStart', 'thickEnd', 'itemRgb', 'coverage', 'frequency']\n",
    "bed_df = pd.read_csv(BED_FILE, sep='\\t', header=0, low_memory=False)\n",
    "print(bed_df.head(5))\n",
    "print(bed_df.columns)"
   ]
  },
  {
   "cell_type": "code",
   "execution_count": 4,
   "id": "e4fa001d-4050-4f3f-8678-de7ea854e5fa",
   "metadata": {},
   "outputs": [],
   "source": [
    "bed_df['chromStart'] = bed_df['chromStart'].astype(int)\n",
    "bed_df['chromEnd'] = bed_df['chromEnd'].astype(int)"
   ]
  },
  {
   "cell_type": "code",
   "execution_count": 5,
   "id": "01946f4a-7287-4fec-a1f7-58135fa6c74a",
   "metadata": {},
   "outputs": [],
   "source": [
    "from pyfaidx import Fasta\n",
    "\n",
    "def load_genome(genome_file):\n",
    "    genome = Fasta(genome_file)\n",
    "    print(\"Reference genome loading completed\")\n",
    "    return genome\n"
   ]
  },
  {
   "cell_type": "code",
   "execution_count": 6,
   "id": "6c0f9381-1298-419d-93c3-20a3c7d91f43",
   "metadata": {},
   "outputs": [],
   "source": [
    "def extract_5mer_with_skipped(bed_df, genome, skipped_output='skipped_sites.csv'):\n",
    "    \"\"\"\n",
    "    Extract 5mer sequences from the BED table, automatically process the positive and negative strands, \n",
    "    and record skipped sites.\n",
    "    \n",
    "    Parameters:\n",
    "    - bed_df: Read the BED data frame\n",
    "    - genome: Reference genome (pyfaidx.Fasta loading object)\n",
    "    - skipped_output: Skip record saving path (CSV format)\n",
    "    \n",
    "    Return:\n",
    "    - five_mers: Extracted 5mer list (same order as bed_df)\n",
    "    \"\"\"\n",
    "    print(\"[3] Extracting 5mer...\")\n",
    "\n",
    "    five_mers = []        \n",
    "    skipped_sites = []   \n",
    "\n",
    "    for idx, row in bed_df.iterrows():\n",
    "        chrom = str(row['chrom'])  \n",
    "        start = int(row['chromStart']) - 2  \n",
    "        end = int(row['chromEnd']) + 2     \n",
    "        strand = row['strand']\n",
    "        name = row['name']\n",
    "\n",
    "        if start < 0:\n",
    "            start = 0\n",
    "\n",
    "        try:\n",
    "            seq = genome[chrom][start:end].seq.upper()\n",
    "        except KeyError:\n",
    "            print(f\"[WARNING] Chromosome {chrom} not found in reference genome, skipping {name}\")\n",
    "            skipped_sites.append({'name': name, 'chrom': chrom, 'start': start, 'end': end, 'strand': strand, 'reason': 'chrom not found'})\n",
    "            five_mers.append('NA')\n",
    "            continue\n",
    "\n",
    "        if strand == '-':\n",
    "            seq = str(Seq(seq).reverse_complement())\n",
    "\n",
    "        if len(seq) != 5:\n",
    "            print(f\"[Warning] 5mer length of {name} is not 5 ({len(seq)} bp), skipping\")\n",
    "            skipped_sites.append({'name': name, 'chrom': chrom, 'start': start, 'end': end, 'strand': strand, 'reason': f'seq length {len(seq)}'})\n",
    "            five_mers.append('NA')\n",
    "            continue\n",
    "\n",
    "        five_mers.append(seq)\n",
    "\n",
    "    if skipped_sites:\n",
    "        pd.DataFrame(skipped_sites).to_csv(skipped_output, index=False)\n",
    "        print(f\"[Tip] The skipped position has been saved to {skipped_output}\")\n",
    "\n",
    "    print(\"[Done] 5mer extraction completed!\")\n",
    "    return five_mers"
   ]
  },
  {
   "cell_type": "code",
   "execution_count": 7,
   "id": "b5b08fc7-4269-45f3-94da-14c17e1a128e",
   "metadata": {},
   "outputs": [],
   "source": [
    "def save_results(bed_df, output_bed, output_csv):\n",
    "    print(\"[4] Saving results...\")\n",
    "    \n",
    "    bed_df.to_csv(output_bed, sep='\\t', index=False, header=True, encoding='utf-8')\n",
    "    print(f\"[Done] BED file saved: {output_bed}\\n\")"
   ]
  },
  {
   "cell_type": "code",
   "execution_count": 8,
   "id": "3ad230bc-ef84-48cd-aae1-97d066c87189",
   "metadata": {},
   "outputs": [
    {
     "name": "stdout",
     "output_type": "stream",
     "text": [
      "[1] Reading BED file...\n",
      "[Complete] Total 11829964 records\n",
      "[2] Loading reference genome...\n",
      "Reference genome loading completed\n",
      "[3] Extracting 5mer...\n",
      "[3] Extracting 5mer...\n",
      "[Warning] 5mer length of a is not 5 (4 bp), skipping\n",
      "[Warning] 5mer length of a is not 5 (4 bp), skipping\n",
      "[Tip] The skipped position has been saved to skipped_sites.csv\n",
      "[Done] 5mer extraction completed!\n",
      "[4] Saving results...\n",
      "[4] Saving results...\n",
      "[Done] BED file saved: m6a_cov10_with_5mer.bed\n",
      "\n",
      "[All completed]\n"
     ]
    }
   ],
   "source": [
    "def main():\n",
    "    print(\"[1] Reading BED file...\")\n",
    "    bed_df = pd.read_csv(BED_FILE, sep='\\t', header=0, low_memory=False)\n",
    "    bed_df['chromStart'] = bed_df['chromStart'].astype(int)\n",
    "    bed_df['chromEnd'] = bed_df['chromEnd'].astype(int)\n",
    "    print(f\"[Complete] Total {len(bed_df)} records\")\n",
    "\n",
    "    assert isinstance(bed_df, pd.DataFrame), f\"[ERROR] After reading BED, bed_df is not a DataFrame but {type(bed_df)}\"\n",
    "\n",
    "    print(\"[2] Loading reference genome...\")\n",
    "    genome = load_genome(GENOME_FILE)\n",
    "\n",
    "    print(\"[3] Extracting 5mer...\")\n",
    "    five_mers = extract_5mer_with_skipped(bed_df, genome)  \n",
    "\n",
    "    bed_df[\"5mer\"] = five_mers\n",
    "\n",
    "    assert isinstance(bed_df, pd.DataFrame), f\"[ERROR] After 5mer extraction, bed_df is not a DataFrame but {type(bed_df)}\"\n",
    "\n",
    "    print(\"[4] Saving results...\")\n",
    "    save_results(bed_df, OUTPUT_BED, OUTPUT_CSV)\n",
    "    print(\"[All completed]\")\n",
    "\n",
    "if __name__ == \"__main__\":\n",
    "    main()"
   ]
  },
  {
   "cell_type": "code",
   "execution_count": 14,
   "id": "b9a452c7-2591-43a7-b4b7-275ac31df811",
   "metadata": {},
   "outputs": [
    {
     "name": "stdout",
     "output_type": "stream",
     "text": [
      "(11829964, 12)\n"
     ]
    }
   ],
   "source": [
    "df = pd.read_csv(\"m6a_cov10_with_5mer.bed\", sep='\\t', low_memory=False)\n",
    "print(df.shape)"
   ]
  },
  {
   "cell_type": "code",
   "execution_count": 15,
   "id": "b1a3ee69-93da-42ce-8fde-73860f16af97",
   "metadata": {},
   "outputs": [
    {
     "name": "stdout",
     "output_type": "stream",
     "text": [
      "  chrom  chromStart  chromEnd name  score strand  thickStart  thickEnd  \\\n",
      "0     1       14378     14379    a     10      -       14378     14379   \n",
      "1     1       14381     14382    a     17      -       14381     14382   \n",
      "2     1       14382     14383    a     14      -       14382     14383   \n",
      "3     1       14383     14384    a     12      -       14383     14384   \n",
      "4     1       14385     14386    a     11      -       14385     14386   \n",
      "\n",
      "   itemRgb  coverage  frequency   5mer  \n",
      "0  255,0,0        10        0.0  GGATC  \n",
      "1  255,0,0        17        0.0  AAAGG  \n",
      "2  255,0,0        14        0.0  TAAAG  \n",
      "3  255,0,0        12        0.0  ATAAA  \n",
      "4  255,0,0        11        0.0  TAATA  \n"
     ]
    }
   ],
   "source": [
    "print(df.head())"
   ]
  },
  {
   "cell_type": "code",
   "execution_count": 16,
   "id": "e4ed7ec2-f2e7-49de-85be-6a49b9e51c9f",
   "metadata": {},
   "outputs": [
    {
     "name": "stderr",
     "output_type": "stream",
     "text": [
      "/home/qyang/.venvs/jupyter_practical/lib/python3.11/site-packages/logomaker/src/error_handling.py:58: UserWarning:  Warning: Character 'N' is not in color_dict. Using black.\n",
      "  warnings.warn(str(Error))\n"
     ]
    },
    {
     "data": {
      "image/png": "[encoded data removed]",
      "text/plain": [
       "<Figure size 1000x250 with 1 Axes>"
      ]
     },
     "metadata": {},
     "output_type": "display_data"
    }
   ],
   "source": [
    "import pandas as pd\n",
    "import logomaker\n",
    "import matplotlib.pyplot as plt\n",
    "import numpy as np\n",
    "\n",
    "five_mers = df['5mer'].dropna().tolist()\n",
    "\n",
    "info_matrix = logomaker.alignment_to_matrix(sequences=five_mers, to_type='information')\n",
    "\n",
    "logo = logomaker.Logo(info_matrix, color_scheme='classic')\n",
    "\n",
    "logo.ax.set_ylabel(\"Bits\")\n",
    "logo.ax.set_ylim([0, 2])\n",
    "\n",
    "logo.ax.set_xticks([0, 1, 2, 3, 4])\n",
    "logo.ax.set_xticklabels(['1', '2', '3', '4', '5'])\n",
    "logo.ax.set_xticklabels([])\n",
    "\n",
    "logo.style_spines(visible=False)\n",
    "logo.style_spines(spines=[\"left\", \"bottom\"], visible=True)\n",
    "\n",
    "counts_matrix = logomaker.alignment_to_matrix(sequences=five_mers, to_type='counts')\n",
    "\n",
    "for pos in range(5):\n",
    "    g_count = counts_matrix.loc[pos, 'G'] if 'G' in counts_matrix.columns else 0\n",
    "    t_count = counts_matrix.loc[pos, 'T'] if 'T' in counts_matrix.columns else 0\n",
    "    a_count = counts_matrix.loc[pos, 'A'] if 'A' in counts_matrix.columns else 0\n",
    "    c_count = counts_matrix.loc[pos, 'C'] if 'C' in counts_matrix.columns else 0\n",
    "    text = f\"G:{g_count}\\nT:{t_count}\\nA:{a_count}\\nC:{c_count}\"\n",
    "    logo.ax.text(pos, -0.2, text, ha='center', va='top', fontsize=8, transform=logo.ax.transData)\n",
    "\n",
    "plt.title(\"5mer m6A\")\n",
    "\n",
    "plt.tight_layout()\n",
    "plt.show()"
   ]
  },
  {
   "cell_type": "code",
   "execution_count": null,
   "id": "ceeb7deb-9bf5-496f-b481-f678e90c155f",
   "metadata": {},
   "outputs": [],
   "source": []
  }
 ],
 "metadata": {
  "kernelspec": {
   "display_name": "jupyter_practical",
   "language": "python",
   "name": "jupyter_practical"
  },
  "language_info": {
   "codemirror_mode": {
    "name": "ipython",
    "version": 3
   },
   "file_extension": ".py",
   "mimetype": "text/x-python",
   "name": "python",
   "nbconvert_exporter": "python",
   "pygments_lexer": "ipython3",
   "version": "3.11.2"
  }
 },
 "nbformat": 4,
 "nbformat_minor": 5
}
