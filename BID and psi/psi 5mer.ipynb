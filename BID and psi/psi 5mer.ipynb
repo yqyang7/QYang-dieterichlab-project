{
 "cells": [
  {
   "cell_type": "code",
   "execution_count": 1,
   "id": "af3d67e2-5ee7-4a24-8788-b42340d90f99",
   "metadata": {},
   "outputs": [
    {
     "name": "stdout",
     "output_type": "stream",
     "text": [
      "(11823337, 11)\n"
     ]
    }
   ],
   "source": [
    "import pandas as pd\n",
    "df = pd.read_csv(\"/prj/Qingyang/psi_cov10.bed\", sep='\\t', low_memory=False)\n",
    "print(df.shape)"
   ]
  },
  {
   "cell_type": "code",
   "execution_count": 3,
   "id": "529adfbc-1e1f-4d53-ad06-79464e1174da",
   "metadata": {},
   "outputs": [
    {
     "name": "stdout",
     "output_type": "stream",
     "text": [
      "Collecting pyfaidx\n",
      "  Downloading pyfaidx-0.8.1.3-py3-none-any.whl (28 kB)\n",
      "Collecting biopython\n",
      "  Using cached biopython-1.85-cp311-cp311-manylinux_2_17_x86_64.manylinux2014_x86_64.whl (3.3 MB)\n",
      "Collecting importlib-metadata\n",
      "  Downloading importlib_metadata-8.6.1-py3-none-any.whl (26 kB)\n",
      "Requirement already satisfied: packaging in /home/qyang/.venvs/jupyter_practical/lib/python3.11/site-packages (from pyfaidx) (24.2)\n",
      "Requirement already satisfied: numpy in /home/qyang/.venvs/jupyter_practical/lib/python3.11/site-packages (from biopython) (2.2.4)\n",
      "Collecting zipp>=3.20\n",
      "  Downloading zipp-3.21.0-py3-none-any.whl (9.6 kB)\n",
      "Installing collected packages: zipp, biopython, importlib-metadata, pyfaidx\n",
      "Successfully installed biopython-1.85 importlib-metadata-8.6.1 pyfaidx-0.8.1.3 zipp-3.21.0\n",
      "Note: you may need to restart the kernel to use updated packages.\n"
     ]
    }
   ],
   "source": [
    "pip install pyfaidx biopython"
   ]
  },
  {
   "cell_type": "code",
   "execution_count": 2,
   "id": "5ac3d162-11c3-4290-ad25-cdbf9f07538c",
   "metadata": {},
   "outputs": [],
   "source": [
    "from pyfaidx import Fasta\n",
    "from Bio.Seq import Seq\n",
    "from Bio import SeqIO\n",
    "\n",
    "BED_FILE = \"/prj/Qingyang/psi_cov10.bed\"\n",
    "GENOME_FILE = \"/biodb/genomes/homo_sapiens/GRCh38_102/GRCh38_102.fa\"\n",
    "OUTPUT_BED = \"psi_cov10_with_5mer.bed\"\n",
    "OUTPUT_CSV = \"psi_cov10_with_5mer.csv\""
   ]
  },
  {
   "cell_type": "code",
   "execution_count": 16,
   "id": "05f3dada-5053-4bf5-8f7d-4779ace349f1",
   "metadata": {},
   "outputs": [
    {
     "name": "stdout",
     "output_type": "stream",
     "text": [
      "  chrom  chromStart  chromEnd   name  score strand  thickStart  thickEnd  \\\n",
      "0     1       14384     14385  17802     11      -       14384     14385   \n",
      "1     1       14387     14388  17802     15      -       14387     14388   \n",
      "2     1       14390     14391  17802     10      -       14390     14391   \n",
      "3     1       14393     14394  17802     14      -       14393     14394   \n",
      "4     1       14395     14396  17802     12      -       14395     14396   \n",
      "\n",
      "   itemRgb  coverage  frequency  \n",
      "0  255,0,0        11       9.09  \n",
      "1  255,0,0        15       0.00  \n",
      "2  255,0,0        10      30.00  \n",
      "3  255,0,0        14       7.14  \n",
      "4  255,0,0        12       0.00  \n"
     ]
    }
   ],
   "source": [
    "print(df.head())"
   ]
  },
  {
   "cell_type": "code",
   "execution_count": 3,
   "id": "f811bdc6-a4c2-4e77-82c3-9363b234906a",
   "metadata": {},
   "outputs": [
    {
     "name": "stdout",
     "output_type": "stream",
     "text": [
      "  chrom  chromStart  chromEnd   name  score strand  thickStart  thickEnd  \\\n",
      "0     1       14384     14385  17802     11      -       14384     14385   \n",
      "1     1       14387     14388  17802     15      -       14387     14388   \n",
      "2     1       14390     14391  17802     10      -       14390     14391   \n",
      "3     1       14393     14394  17802     14      -       14393     14394   \n",
      "4     1       14395     14396  17802     12      -       14395     14396   \n",
      "\n",
      "   itemRgb  coverage  frequency  \n",
      "0  255,0,0        11       9.09  \n",
      "1  255,0,0        15       0.00  \n",
      "2  255,0,0        10      30.00  \n",
      "3  255,0,0        14       7.14  \n",
      "4  255,0,0        12       0.00  \n",
      "Index(['chrom', 'chromStart', 'chromEnd', 'name', 'score', 'strand',\n",
      "       'thickStart', 'thickEnd', 'itemRgb', 'coverage', 'frequency'],\n",
      "      dtype='object')\n"
     ]
    }
   ],
   "source": [
    "genome = Fasta(GENOME_FILE)\n",
    "cols = ['chrom', 'chromStart', 'chromEnd', 'name', 'score', 'strand', \n",
    "        'thickStart', 'thickEnd', 'itemRgb', 'coverage', 'frequency']\n",
    "bed_df = pd.read_csv(BED_FILE, sep='\\t', header=0, low_memory=False)\n",
    "print(bed_df.head(5))\n",
    "print(bed_df.columns)"
   ]
  },
  {
   "cell_type": "code",
   "execution_count": 4,
   "id": "873cb709-bc56-4560-8eb1-398cc8fb979d",
   "metadata": {},
   "outputs": [],
   "source": [
    "bed_df['chromStart'] = bed_df['chromStart'].astype(int)\n",
    "bed_df['chromEnd'] = bed_df['chromEnd'].astype(int)"
   ]
  },
  {
   "cell_type": "code",
   "execution_count": 5,
   "id": "24bcff99-c7fd-4bdb-9659-3a2ecb70845f",
   "metadata": {},
   "outputs": [],
   "source": [
    "from pyfaidx import Fasta\n",
    "\n",
    "def load_genome(genome_file):\n",
    "    \"\"\"Load reference genome\"\"\"\n",
    "    genome = Fasta(genome_file)\n",
    "    print(\"Reference genome loading completed\")\n",
    "    return genome"
   ]
  },
  {
   "cell_type": "code",
   "execution_count": 6,
   "id": "6ba5662c-9640-46e8-a161-a31d1ee04c8f",
   "metadata": {},
   "outputs": [],
   "source": [
    "def extract_5mer_with_skipped(bed_df, genome, skipped_output='skipped_sites.csv'):\n",
    "    \"\"\"\n",
    "    Extract 5mer sequences from BED tables, automatically process positive \n",
    "    and negative strands, and record skipped sites。\n",
    "    \n",
    "    Parameters:\n",
    "    - bed_df: Read the BED data frame\n",
    "    - genome: Reference genome (pyfaidx.Fasta loading object)\n",
    "    - skipped_output: Skip record saving path (CSV format)\n",
    "    \n",
    "    Return:\n",
    "    - five_mers: Extracted 5mer list (same order as bed_df)\n",
    "    \"\"\"\n",
    "    print(\"[3] Extracting 5mer...\")\n",
    "\n",
    "    five_mers = []       \n",
    "    skipped_sites = []   \n",
    "\n",
    "    for idx, row in bed_df.iterrows():\n",
    "        chrom = str(row['chrom']) \n",
    "        start = int(row['chromStart']) - 2 \n",
    "        end = int(row['chromEnd']) + 2      \n",
    "        strand = row['strand']\n",
    "        name = row['name']\n",
    "\n",
    "        if start < 0:\n",
    "            start = 0\n",
    "\n",
    "        try:\n",
    "            seq = genome[chrom][start:end].seq.upper()\n",
    "        except KeyError:\n",
    "            print(f\"[Warning] Chromosome {chrom} not found in reference genome, skipping {name}\")\n",
    "            skipped_sites.append({'name': name, 'chrom': chrom, 'start': start, 'end': end, 'strand': strand, 'reason': 'chrom not found'})\n",
    "            five_mers.append('NA')\n",
    "            continue\n",
    "\n",
    "        if strand == '-':\n",
    "            seq = str(Seq(seq).reverse_complement())\n",
    "\n",
    "        if len(seq) != 5:\n",
    "            print(f\"[Warning] 5mer length of {name} is not 5 ({len(seq)} bp), skipping\")\n",
    "            skipped_sites.append({'name': name, 'chrom': chrom, 'start': start, 'end': end, 'strand': strand, 'reason': f'seq length {len(seq)}'})\n",
    "            five_mers.append('NA')\n",
    "            continue\n",
    "\n",
    "        five_mers.append(seq)\n",
    "\n",
    "    if skipped_sites:\n",
    "        pd.DataFrame(skipped_sites).to_csv(skipped_output, index=False)\n",
    "        print(f\"[Tip] The skipped position has been saved to {skipped_output}\")\n",
    "\n",
    "    print(\"[Complete] 5mer extraction completed！\")\n",
    "    return five_mers"
   ]
  },
  {
   "cell_type": "code",
   "execution_count": 7,
   "id": "9bc75e1f-6245-4b10-b55d-197366c23d52",
   "metadata": {},
   "outputs": [],
   "source": [
    "def save_results(bed_df, output_bed, output_csv):\n",
    "    print(\"[4] Saving results...\")\n",
    "    \n",
    "    bed_df.to_csv(output_bed, sep='\\t', index=False, header=True, encoding='utf-8')\n",
    "    print(f\"[Done] BED file saved: {output_bed}\\n\")"
   ]
  },
  {
   "cell_type": "code",
   "execution_count": 8,
   "id": "b2236fc9-a2c4-42b1-8b11-45ace50c6f08",
   "metadata": {},
   "outputs": [
    {
     "name": "stdout",
     "output_type": "stream",
     "text": [
      "[1] Reading BED file...\n",
      "[Complete] Total 11823337 records\n",
      "[2] Loading reference genome...\n",
      "Reference genome loading completed\n",
      "[3] Extracting 5mer...\n",
      "[3] Extracting 5mer...\n",
      "[Warning] 5mer length of 17802 is not 5 (4 bp), skipping\n",
      "[Warning] 5mer length of 17802 is not 5 (4 bp), skipping\n",
      "[Tip] The skipped position has been saved to skipped_sites.csv\n",
      "[Complete] 5mer extraction completed！\n",
      "[4] Saving results...\n",
      "[4] Saving results...\n",
      "[Done] BED file saved: psi_cov10_with_5mer.bed\n",
      "\n",
      "[All completed]\n"
     ]
    }
   ],
   "source": [
    "def main():\n",
    "    print(\"[1] Reading BED file...\")\n",
    "    bed_df = pd.read_csv(BED_FILE, sep='\\t', header=0, low_memory=False)\n",
    "    bed_df['chromStart'] = bed_df['chromStart'].astype(int)\n",
    "    bed_df['chromEnd'] = bed_df['chromEnd'].astype(int)\n",
    "    print(f\"[Complete] Total {len(bed_df)} records\")\n",
    "\n",
    "    assert isinstance(bed_df, pd.DataFrame), f\"[ERROR] After reading BED, bed_df is not a DataFrame, but {type(bed_df)}\"\n",
    "\n",
    "    print(\"[2] Loading reference genome...\")\n",
    "    genome = load_genome(GENOME_FILE)\n",
    "\n",
    "    print(\"[3] Extracting 5mer...\")\n",
    "    five_mers = extract_5mer_with_skipped(bed_df, genome)  \n",
    "\n",
    "    bed_df[\"5mer\"] = five_mers\n",
    "\n",
    "    assert isinstance(bed_df, pd.DataFrame), f\"[ERROR] After 5mer extraction, bed_df is not a DataFrame but {type(bed_df)}\"\n",
    "\n",
    "    print(\"[4] Saving results...\")\n",
    "    save_results(bed_df, OUTPUT_BED, OUTPUT_CSV)\n",
    "    print(\"[All completed]\")\n",
    "\n",
    "if __name__ == \"__main__\":\n",
    "    main()"
   ]
  },
  {
   "cell_type": "code",
   "execution_count": 33,
   "id": "3eb83af2-ab18-4003-8113-14f38ebc6abd",
   "metadata": {},
   "outputs": [
    {
     "name": "stdout",
     "output_type": "stream",
     "text": [
      "(11823337, 12)\n"
     ]
    }
   ],
   "source": [
    "df = pd.read_csv(\"psi_cov10_with_5mer.bed\", sep='\\t', low_memory=False)\n",
    "print(df.shape)"
   ]
  },
  {
   "cell_type": "code",
   "execution_count": 34,
   "id": "291e321f-9c11-405b-aa6e-44d12bd18b00",
   "metadata": {},
   "outputs": [
    {
     "name": "stdout",
     "output_type": "stream",
     "text": [
      "  chrom  chromStart  chromEnd   name  score strand  thickStart  thickEnd  \\\n",
      "0     1       14384     14385  17802     11      -       14384     14385   \n",
      "1     1       14387     14388  17802     15      -       14387     14388   \n",
      "2     1       14390     14391  17802     10      -       14390     14391   \n",
      "3     1       14393     14394  17802     14      -       14393     14394   \n",
      "4     1       14395     14396  17802     12      -       14395     14396   \n",
      "\n",
      "   itemRgb  coverage  frequency   5mer  \n",
      "0  255,0,0        11       9.09  AATAA  \n",
      "1  255,0,0        15       0.00  TTTAA  \n",
      "2  255,0,0        10      30.00  GCTTT  \n",
      "3  255,0,0        14       7.14  TGTGC  \n",
      "4  255,0,0        12       0.00  AGTGT  \n"
     ]
    }
   ],
   "source": [
    "print(df.head())"
   ]
  },
  {
   "cell_type": "code",
   "execution_count": 10,
   "id": "2df9f3f7-568a-48af-9082-57ce382aedae",
   "metadata": {},
   "outputs": [
    {
     "name": "stdout",
     "output_type": "stream",
     "text": [
      "(11823337, 12)\n"
     ]
    }
   ],
   "source": [
    "import pandas as pd\n",
    "df = pd.read_csv(\"psi_cov10_with_5mer.bed\", sep='\\t', low_memory=False)\n",
    "print(df.shape)"
   ]
  },
  {
   "cell_type": "code",
   "execution_count": 3,
   "id": "52c1b926-9b6f-4b23-bed5-88006f0c84d1",
   "metadata": {},
   "outputs": [
    {
     "name": "stdout",
     "output_type": "stream",
     "text": [
      "  chrom  chromStart  chromEnd   name  score strand  thickStart  thickEnd  \\\n",
      "0     1       14384     14385  17802     11      -       14384     14385   \n",
      "1     1       14387     14388  17802     15      -       14387     14388   \n",
      "2     1       14390     14391  17802     10      -       14390     14391   \n",
      "3     1       14393     14394  17802     14      -       14393     14394   \n",
      "4     1       14395     14396  17802     12      -       14395     14396   \n",
      "\n",
      "   itemRgb  coverage  frequency   5mer  \n",
      "0  255,0,0        11       9.09  AATAA  \n",
      "1  255,0,0        15       0.00  TTTAA  \n",
      "2  255,0,0        10      30.00  GCTTT  \n",
      "3  255,0,0        14       7.14  TGTGC  \n",
      "4  255,0,0        12       0.00  AGTGT  \n"
     ]
    }
   ],
   "source": [
    "print(df.head())"
   ]
  },
  {
   "cell_type": "code",
   "execution_count": 11,
   "id": "da1a6947-71f5-4685-8102-9ad9aed1f489",
   "metadata": {},
   "outputs": [],
   "source": [
    "import logomaker\n",
    "import matplotlib.pyplot as plt\n",
    "sequences = df[\"5mer\"]"
   ]
  },
  {
   "cell_type": "code",
   "execution_count": 14,
   "id": "e2b40348-2cb2-4c83-8292-18b9ce557484",
   "metadata": {},
   "outputs": [
    {
     "name": "stdout",
     "output_type": "stream",
     "text": [
      "Found 2 illegal sequences, replaced with 'N'.\n",
      "After filtering, {len(filtered_sequences)} legal sequences remain for drawing.\n"
     ]
    }
   ],
   "source": [
    "import pandas as pd\n",
    "\n",
    "cleaned_sequences = []\n",
    "invalid_count = 0\n",
    "\n",
    "for seq in sequences:\n",
    "    if isinstance(seq, str):\n",
    "        cleaned_sequences.append(seq)\n",
    "    else:\n",
    "        invalid_count += 1\n",
    "        cleaned_sequences.append('NNNNN')  \n",
    "\n",
    "print(f\"Found {invalid_count} illegal sequences, replaced with 'N'.\")\n",
    "\n",
    "filtered_sequences = [seq for seq in cleaned_sequences if 'N' not in seq]\n",
    "\n",
    "print(\"After filtering, {len(filtered_sequences)} legal sequences remain for drawing.\")"
   ]
  },
  {
   "cell_type": "code",
   "execution_count": 9,
   "id": "b05bae00-aa1a-4a1a-a2f0-8778ec913bba",
   "metadata": {},
   "outputs": [],
   "source": [
    "info_matrix = logomaker.alignment_to_matrix(filtered_sequences, to_type=\"information\")"
   ]
  },
  {
   "cell_type": "code",
   "execution_count": 10,
   "id": "d4597a3c-45b8-4929-a9d9-ab8745fdd724",
   "metadata": {},
   "outputs": [
    {
     "data": {
      "text/plain": [
       "<Figure size 1000x400 with 0 Axes>"
      ]
     },
     "metadata": {},
     "output_type": "display_data"
    },
    {
     "data": {
      "image/png": "[encoded data removed]",
      "text/plain": [
       "<Figure size 1000x250 with 1 Axes>"
      ]
     },
     "metadata": {},
     "output_type": "display_data"
    }
   ],
   "source": [
    "plt.figure(figsize=(10, 4))\n",
    "logo = logomaker.Logo(info_matrix, center_values=True, width=0.8)\n",
    "logo.ax.set_ylabel(\"Information Content (bits)\")\n",
    "logo.ax.set_ylabel(\"Shannon Entropy(bits)\")\n",
    "logo.ax.set_xlabel(\"Position in 5mer\")\n",
    "logo.ax.set_title(\"logomaker psi 5mer\", fontsize=10, fontweight='bold')\n",
    "logo.ax.set_xticks(range(len(info_matrix)))\n",
    "logo.ax.set_xticklabels(range(1, len(info_matrix) + 1))\n",
    "logo.ax.set_ylim([-2, 2])\n",
    "logo.style_spines(visible=False)\n",
    "logo.style_xticks(rotation=0, fmt=\"%d\", anchor=0)\n",
    "logo.style_glyphs(fade_below=0.2)"
   ]
  },
  {
   "cell_type": "code",
   "execution_count": 11,
   "id": "d3244009-28a7-4ba4-be15-df4ce363c92f",
   "metadata": {},
   "outputs": [
    {
     "name": "stdout",
     "output_type": "stream",
     "text": [
      "<bound method NDFrame.head of            A        C        G         T\n",
      "pos                                     \n",
      "0    2986943  2596335  2556338   3683716\n",
      "1    2739868  3202093  2359873   3521498\n",
      "2      38346    90495     9273  11685218\n",
      "3    2197232  2604652  3522390   3499058\n",
      "4    2970174  2744826  2404045   3704287>\n"
     ]
    }
   ],
   "source": [
    "counts_matrix = logomaker.alignment_to_matrix(filtered_sequences)\n",
    "print(counts_matrix.head)"
   ]
  },
  {
   "cell_type": "code",
   "execution_count": 12,
   "id": "67412722-20d2-4b5f-bb59-70f45f64fa7d",
   "metadata": {},
   "outputs": [],
   "source": [
    "info_matrix = logomaker.alignment_to_matrix(filtered_sequences, to_type='information')"
   ]
  },
  {
   "cell_type": "code",
   "execution_count": 13,
   "id": "2918ae77-bcf8-4fc3-8866-4f39d9d5ccfb",
   "metadata": {},
   "outputs": [
    {
     "data": {
      "text/plain": [
       "Text(0.5, 1.0, '5mer m6A')"
      ]
     },
     "execution_count": 13,
     "metadata": {},
     "output_type": "execute_result"
    },
    {
     "data": {
      "image/png": "[encoded data removed]",
      "text/plain": [
       "<Figure size 1000x250 with 1 Axes>"
      ]
     },
     "metadata": {},
     "output_type": "display_data"
    }
   ],
   "source": [
    "logo = logomaker.Logo(info_matrix, color_scheme=\"classic\")\n",
    "logo.style_spines(visible=False)\n",
    "logo.style_spines(spines = [\"left\", \"right\"], visible=True)\n",
    "logo.ax.set_ylabel(\"Information (bits)\")\n",
    "logo.ax.set_ylim([-2, 2])\n",
    "plt.title('5mer m6A')"
   ]
  },
  {
   "cell_type": "code",
   "execution_count": 14,
   "id": "f596d7eb-7bdc-4a7b-ace2-47fafd362e21",
   "metadata": {},
   "outputs": [
    {
     "data": {
      "text/plain": [
       "Text(0.5, 1.0, '5mer psi')"
      ]
     },
     "execution_count": 14,
     "metadata": {},
     "output_type": "execute_result"
    },
    {
     "data": {
      "image/png": "[encoded data removed]",
      "text/plain": [
       "<Figure size 1000x250 with 1 Axes>"
      ]
     },
     "metadata": {},
     "output_type": "display_data"
    }
   ],
   "source": [
    "logo = logomaker.Logo(counts_matrix, color_scheme=\"classic\")\n",
    "logo.style_spines(visible=False)\n",
    "logo.style_spines(spines = [\"left\", \"right\"], visible=True)\n",
    "logo.ax.set_ylabel(\"Frequency\")\n",
    "plt.title('5mer psi')"
   ]
  },
  {
   "cell_type": "code",
   "execution_count": 16,
   "id": "39afb3fc-9461-4fd0-b4b2-bf781fc4df48",
   "metadata": {},
   "outputs": [
    {
     "name": "stderr",
     "output_type": "stream",
     "text": [
      "/home/qyang/.venvs/jupyter_practical/lib/python3.11/site-packages/logomaker/src/error_handling.py:58: UserWarning:  Warning: Character 'N' is not in color_dict. Using black.\n",
      "  warnings.warn(str(Error))\n"
     ]
    },
    {
     "data": {
      "image/png": "[encoded data removed]",
      "text/plain": [
       "<Figure size 1000x250 with 1 Axes>"
      ]
     },
     "metadata": {},
     "output_type": "display_data"
    }
   ],
   "source": [
    "import pandas as pd\n",
    "import logomaker\n",
    "import matplotlib.pyplot as plt\n",
    "import numpy as np\n",
    "\n",
    "five_mers = df['5mer'].dropna().tolist()\n",
    "info_matrix = logomaker.alignment_to_matrix(sequences=five_mers, to_type='information')\n",
    "\n",
    "logo = logomaker.Logo(info_matrix, color_scheme='classic')\n",
    "\n",
    "logo.ax.set_ylabel(\"Bits\")\n",
    "logo.ax.set_ylim([0, 2])\n",
    "\n",
    "logo.ax.set_xticks([0, 1, 2, 3, 4])\n",
    "logo.ax.set_xticklabels(['1', '2', '3', '4', '5'])\n",
    "logo.ax.set_xticklabels([])\n",
    "\n",
    "logo.style_spines(visible=False)\n",
    "logo.style_spines(spines=[\"left\", \"bottom\"], visible=True)\n",
    "\n",
    "counts_matrix = logomaker.alignment_to_matrix(sequences=five_mers, to_type='counts')\n",
    "\n",
    "for pos in range(5):\n",
    "    g_count = counts_matrix.loc[pos, 'G'] if 'G' in counts_matrix.columns else 0\n",
    "    t_count = counts_matrix.loc[pos, 'T'] if 'T' in counts_matrix.columns else 0\n",
    "    a_count = counts_matrix.loc[pos, 'A'] if 'A' in counts_matrix.columns else 0\n",
    "    c_count = counts_matrix.loc[pos, 'C'] if 'C' in counts_matrix.columns else 0\n",
    "    text = f\"G:{g_count}\\nT:{t_count}\\nA:{a_count}\\nC:{c_count}\"\n",
    "    logo.ax.text(pos, -0.2, text, ha='center', va='top', fontsize=8, transform=logo.ax.transData)\n",
    "\n",
    "plt.title(\"5mer psi\")\n",
    "\n",
    "plt.tight_layout()\n",
    "plt.show()"
   ]
  },
  {
   "cell_type": "code",
   "execution_count": null,
   "id": "00e1ae7a-c437-496e-abc1-f948c9db3640",
   "metadata": {},
   "outputs": [],
   "source": []
  }
 ],
 "metadata": {
  "kernelspec": {
   "display_name": "jupyter_practical",
   "language": "python",
   "name": "jupyter_practical"
  },
  "language_info": {
   "codemirror_mode": {
    "name": "ipython",
    "version": 3
   },
   "file_extension": ".py",
   "mimetype": "text/x-python",
   "name": "python",
   "nbconvert_exporter": "python",
   "pygments_lexer": "ipython3",
   "version": "3.11.2"
  }
 },
 "nbformat": 4,
 "nbformat_minor": 5
}
